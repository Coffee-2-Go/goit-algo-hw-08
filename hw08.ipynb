{
 "cells": [
  {
   "cell_type": "markdown",
   "metadata": {},
   "source": [
    "# Опис домашнього завдання"
   ]
  },
  {
   "cell_type": "markdown",
   "metadata": {},
   "source": [
    "Є декілька мережевих кабелів різної довжини, їх потрібно об'єднати по два за раз в один кабель, використовуючи з'єднувачі, у порядку, який призведе до найменших витрат. Витрати на з'єднання двох кабелів дорівнюють їхній сумі довжин, а загальні витрати дорівнюють сумі з'єднання всіх кабелів.\n",
    "\n",
    "Завдання полягає в тому, щоб знайти порядок об'єднання, який мінімізує загальні витрати.\n",
    "\n",
    "Задачу треба розв'язати за допомогою купи."
   ]
  },
  {
   "cell_type": "code",
   "execution_count": 21,
   "metadata": {},
   "outputs": [
    {
     "name": "stdout",
     "output_type": "stream",
     "text": [
      "Мінімальні витрати на з'єднання кабелів: 68\n",
      "Сумарна довжина кабелю: 37\n"
     ]
    }
   ],
   "source": [
    "import heapq\n",
    "\n",
    "def min_cost_to_connect_cables(cable_lengths):\n",
    "    heap = []  # створюю порожню купу яка містить початкові елементи\n",
    "    # Додаю всі кабелі до купи\n",
    "    for cable_index, length in enumerate(cable_lengths):\n",
    "        heapq.heappush(heap, (length, cable_index))\n",
    "\n",
    "    total_cost = 0\n",
    "    while len(heap) > 1:\n",
    "        # Вилучаю два кабелі з найменшою довжиною\n",
    "        cable_length_1, _ = heapq.heappop(heap)\n",
    "        cable_length_2, _ = heapq.heappop(heap)\n",
    "        # Об'єдную їх та обчислюю витрати\n",
    "        total_length = cable_length_1 + cable_length_2\n",
    "        total_cost += total_length\n",
    "        # Додаю об'єднаний кабель назад у купу\n",
    "        heapq.heappush(heap, (total_length, None))\n",
    "\n",
    "    return total_cost, total_length\n",
    "\n",
    "# Тестування\n",
    "cable_lengths = [5, 17, 9, 6]\n",
    "min_cost, total_length = min_cost_to_connect_cables(cable_lengths)\n",
    "print(\"Мінімальні витрати на з'єднання кабелів:\", min_cost)\n",
    "print(\"Сумарна довжина кабелю:\", total_length)"
   ]
  },
  {
   "cell_type": "markdown",
   "metadata": {},
   "source": [
    "# Необов'язкове завдання"
   ]
  },
  {
   "cell_type": "markdown",
   "metadata": {},
   "source": [
    "Дано k відсортованих списків цілих чисел. Завдання — об'єднати їх у один відсортований список. \n",
    "\n",
    "При виконанні завдання необхідно використати мінімальну купу для ефективного злиття кількох відсортованих списків в один відсортований список. \n",
    "\n",
    "Реалізуйте функцію merge_k_lists, яка приймає на вхід список відсортованих списків та повертає відсортований список."
   ]
  },
  {
   "cell_type": "code",
   "execution_count": 12,
   "metadata": {},
   "outputs": [
    {
     "name": "stdout",
     "output_type": "stream",
     "text": [
      "Sorted list: [1, 1, 2, 3, 4, 4, 5, 6]\n"
     ]
    }
   ],
   "source": [
    "import heapq\n",
    "\n",
    "def merge_k_lists(lists):\n",
    "    # Ініціалізуємо порожню купу\n",
    "    heap = []\n",
    "    # Додаємо кожний відсортований список до купи\n",
    "    for lst in lists:\n",
    "        heap.extend(lst)\n",
    "    # Перетворюємо список в купу\n",
    "    heapq.heapify(heap)\n",
    "    sorted_merged_list = []\n",
    "    while heap:\n",
    "        sorted_merged_list.append(heapq.heappop(heap))\n",
    "    return sorted_merged_list\n",
    "\n",
    "lists = [[1, 4, 5], [1, 3, 4], [2, 6]]\n",
    "merged_list = merge_k_lists(lists)\n",
    "print(\"Sorted list:\", merged_list)"
   ]
  }
 ],
 "metadata": {
  "kernelspec": {
   "display_name": "Python 3",
   "language": "python",
   "name": "python3"
  },
  "language_info": {
   "codemirror_mode": {
    "name": "ipython",
    "version": 3
   },
   "file_extension": ".py",
   "mimetype": "text/x-python",
   "name": "python",
   "nbconvert_exporter": "python",
   "pygments_lexer": "ipython3",
   "version": "3.12.3"
  }
 },
 "nbformat": 4,
 "nbformat_minor": 2
}
